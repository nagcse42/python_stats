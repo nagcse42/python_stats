{
 "cells": [
  {
   "cell_type": "code",
   "execution_count": 10,
   "metadata": {},
   "outputs": [],
   "source": [
    "import numpy as np\n",
    "import pickle\n",
    "import pandas as pd\n",
    "filename=\"load.csv\""
   ]
  },
  {
   "cell_type": "code",
   "execution_count": 11,
   "metadata": {},
   "outputs": [],
   "source": [
    "cols = None\n",
    "data = []"
   ]
  },
  {
   "cell_type": "code",
   "execution_count": 12,
   "metadata": {},
   "outputs": [],
   "source": [
    "with open(filename) as f:\n",
    "    for line in f.readlines():\n",
    "        vals = line.replace(\"\\n\",\"\").split(\",\");\n",
    "        if cols is None:\n",
    "            cols = vals\n",
    "        else:\n",
    "            data.append([float(x) for x in vals])\n",
    "d0=pd.DataFrame(data, columns=cols);"
   ]
  },
  {
   "cell_type": "code",
   "execution_count": 14,
   "metadata": {},
   "outputs": [
    {
     "name": "stdout",
     "output_type": "stream",
     "text": [
      "A    float64\n",
      "B    float64\n",
      "C    float64\n",
      "D    float64\n",
      "E    float64\n",
      "dtype: object\n"
     ]
    }
   ],
   "source": [
    "d0.head()\n",
    "print(d0.dtypes)"
   ]
  },
  {
   "cell_type": "code",
   "execution_count": 19,
   "metadata": {},
   "outputs": [
    {
     "name": "stdout",
     "output_type": "stream",
     "text": [
      "float64\n",
      "[[  1.276  21.4    63.957 216.204 528.   ]\n",
      " [  1.002  21.95   61.697 204.484 514.   ]\n",
      " [  1.114  22.454  63.522 205.608 514.   ]\n",
      " [  1.133  22.494  61.59  206.565 501.   ]\n",
      " [  0.845  21.654  63.729 201.289 532.   ]]\n"
     ]
    }
   ],
   "source": [
    "d1=np.loadtxt(filename, delimiter=\",\", skiprows=1)\n",
    "print(d1.dtype)\n",
    "print(d1[:5,:])"
   ]
  },
  {
   "cell_type": "code",
   "execution_count": 20,
   "metadata": {},
   "outputs": [
    {
     "name": "stdout",
     "output_type": "stream",
     "text": [
      "[('A', '<f8'), ('B', '<f8'), ('C', '<f8'), ('D', '<f8'), ('E', '<i8')]\n",
      "[(1.276, 21.4  , 63.957, 216.204, 528)\n",
      " (1.002, 21.95 , 61.697, 204.484, 514)\n",
      " (1.114, 22.454, 63.522, 205.608, 514)\n",
      " (1.133, 22.494, 61.59 , 206.565, 501)\n",
      " (0.845, 21.654, 63.729, 201.289, 532)]\n"
     ]
    }
   ],
   "source": [
    "d2=np.genfromtxt(filename, delimiter=\",\",names=True, dtype=None)\n",
    "print(d2.dtype)\n",
    "print(d2[:5])"
   ]
  },
  {
   "cell_type": "code",
   "execution_count": 21,
   "metadata": {},
   "outputs": [
    {
     "name": "stdout",
     "output_type": "stream",
     "text": [
      "A    float64\n",
      "B    float64\n",
      "C    float64\n",
      "D    float64\n",
      "E      int64\n",
      "dtype: object\n",
      "         A       B       C        D    E\n",
      "0    1.276  21.400  63.957  216.204  528\n",
      "1    1.002  21.950  61.697  204.484  514\n",
      "2    1.114  22.454  63.522  205.608  514\n",
      "3    1.133  22.494  61.590  206.565  501\n",
      "4    0.845  21.654  63.729  201.289  532\n",
      "..     ...     ...     ...      ...  ...\n",
      "495  1.060  20.585  60.653  208.990  501\n",
      "496  1.163  22.629  62.278  200.712  497\n",
      "497  1.029  21.705  62.311  209.684  517\n",
      "498  1.114  21.473  65.710  212.078  506\n",
      "499  1.199  21.586  64.273  208.358  500\n",
      "\n",
      "[500 rows x 5 columns]\n"
     ]
    }
   ],
   "source": [
    "d3=pd.read_csv(filename)\n",
    "print(d3.dtypes)\n",
    "print(d3)"
   ]
  },
  {
   "cell_type": "code",
   "execution_count": null,
   "metadata": {},
   "outputs": [],
   "source": [
    "with open(\"load_pickle.pickle\", \"rb\") as f:\n",
    "    d4 = pickle.load(f)\n",
    "print(d4.dtypes)\n"
   ]
  }
 ],
 "metadata": {
  "kernelspec": {
   "display_name": "Python 3",
   "language": "python",
   "name": "python3"
  },
  "language_info": {
   "codemirror_mode": {
    "name": "ipython",
    "version": 3
   },
   "file_extension": ".py",
   "mimetype": "text/x-python",
   "name": "python",
   "nbconvert_exporter": "python",
   "pygments_lexer": "ipython3",
   "version": "3.7.6"
  }
 },
 "nbformat": 4,
 "nbformat_minor": 4
}
